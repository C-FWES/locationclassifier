{
 "cells": [
  {
   "cell_type": "code",
   "execution_count": 61,
   "id": "initial_id",
   "metadata": {},
   "outputs": [],
   "source": [
    "from keras import Sequential\n",
    "from tensorflow.keras.layers import Conv2D, MaxPooling2D, Dense, Flatten, Dropout\n",
    "from tensorflow.keras.preprocessing.image import ImageDataGenerator\n",
    "import numpy as np"
   ]
  },
  {
   "cell_type": "code",
   "execution_count": 58,
   "id": "2319b913-2cbe-4b05-a48b-1df2ffbffc02",
   "metadata": {},
   "outputs": [],
   "source": [
    "src_path_training = \"geodataset/training/\"\n",
    "src_path_test = \"geodataset/test/\"\n",
    "classes = [\"canada\", \"japan\", \"sweden\", \"united_states\", \"france\"]\n",
    "\n",
    "train_datagen = ImageDataGenerator(\n",
    "    rescale  = 1 / 255.0,\n",
    "    rotation_range = 20,\n",
    "    zoom_range = 0.05,\n",
    "    width_shift_range = 0.05,\n",
    "    height_shift_range = 0.05,\n",
    "    shear_range = 0.05,\n",
    "    horizontal_flip = True,\n",
    "    fill_mode = \"nearest\"\n",
    ")\n",
    "\n",
    "test_datagen = ImageDataGenerator(rescale = 1 / 255.0)"
   ]
  },
  {
   "cell_type": "code",
   "execution_count": 83,
   "id": "3d8ee4b8-b955-41a0-8145-024ec4c9a8d1",
   "metadata": {},
   "outputs": [
    {
     "name": "stdout",
     "output_type": "stream",
     "text": [
      "Found 50 images belonging to 5 classes.\n",
      "Found 0 images belonging to 5 classes.\n",
      "Found 23 images belonging to 1 classes.\n"
     ]
    }
   ],
   "source": [
    "batch_size = 5\n",
    "train_generator = train_datagen.flow_from_directory(\n",
    "    directory=src_path_training,\n",
    "    target_size=(224, 224),\n",
    "    color_mode=\"rgb\",\n",
    "    batch_size=batch_size,\n",
    "    class_mode=\"categorical\",\n",
    "    subset=\"training\",\n",
    "    shuffle=True,\n",
    "    seed=42\n",
    ")\n",
    "valid_generator = train_datagen.flow_from_directory(\n",
    "    directory=src_path_training,\n",
    "    target_size=(224, 224),\n",
    "    color_mode=\"rgb\",\n",
    "    batch_size=batch_size,\n",
    "    class_mode=\"categorical\",\n",
    "    subset=\"validation\",\n",
    "    shuffle=False,\n",
    "    seed=42\n",
    ")\n",
    "test_generator = test_datagen.flow_from_directory(\n",
    "    directory=src_path_test,\n",
    "    target_size=(224, 224),\n",
    "    color_mode=\"rgb\",\n",
    "    batch_size=1,\n",
    "    class_mode=None,\n",
    "    shuffle=False,\n",
    "    seed=42\n",
    ")"
   ]
  },
  {
   "cell_type": "code",
   "execution_count": 84,
   "id": "09a4eb29-d210-40b7-8d92-c43d2789487e",
   "metadata": {},
   "outputs": [],
   "source": [
    "def prepare_model():\n",
    "    model = Sequential()\n",
    "    model.add(Conv2D(32, kernel_size=(3,3), activation='relu', input_shape=(224, 224, 3)))\n",
    "    model.add(MaxPooling2D(pool_size=(2,2)))\n",
    "    model.add(Flatten())\n",
    "    model.add(Dense(12, activation='relu'))\n",
    "    model.add(Dense(5, activation='sigmoid'))\n",
    "    model.compile(loss=\"binary_crossentropy\", optimizer=\"adam\", metrics=['accuracy'])\n",
    "    return model"
   ]
  },
  {
   "cell_type": "code",
   "execution_count": 85,
   "id": "19348886-3dc4-4b42-88e8-f2fd30039f50",
   "metadata": {},
   "outputs": [
    {
     "name": "stdout",
     "output_type": "stream",
     "text": [
      "Epoch 1/5\n",
      "\u001b[1m10/10\u001b[0m \u001b[32m━━━━━━━━━━━━━━━━━━━━\u001b[0m\u001b[37m\u001b[0m \u001b[1m3s\u001b[0m 118ms/step - accuracy: 0.1194 - loss: 4.4971 - val_accuracy: 0.2000 - val_loss: 1.7664\n",
      "Epoch 2/5\n",
      "\u001b[1m10/10\u001b[0m \u001b[32m━━━━━━━━━━━━━━━━━━━━\u001b[0m\u001b[37m\u001b[0m \u001b[1m0s\u001b[0m 40ms/step - accuracy: 0.0000e+00 - loss: 0.0000e+00 - val_accuracy: 0.2000 - val_loss: 1.7633\n",
      "Epoch 3/5\n",
      "\u001b[1m10/10\u001b[0m \u001b[32m━━━━━━━━━━━━━━━━━━━━\u001b[0m\u001b[37m\u001b[0m \u001b[1m1s\u001b[0m 93ms/step - accuracy: 0.1736 - loss: 1.0250 - val_accuracy: 0.2000 - val_loss: 0.6907\n",
      "Epoch 4/5\n",
      "\u001b[1m10/10\u001b[0m \u001b[32m━━━━━━━━━━━━━━━━━━━━\u001b[0m\u001b[37m\u001b[0m \u001b[1m0s\u001b[0m 40ms/step - accuracy: 0.0000e+00 - loss: 0.0000e+00 - val_accuracy: 0.2000 - val_loss: 0.6907\n",
      "Epoch 5/5\n",
      "\u001b[1m10/10\u001b[0m \u001b[32m━━━━━━━━━━━━━━━━━━━━\u001b[0m\u001b[37m\u001b[0m \u001b[1m1s\u001b[0m 90ms/step - accuracy: 0.2017 - loss: 0.6902 - val_accuracy: 0.2000 - val_loss: 0.6888\n"
     ]
    },
    {
     "data": {
      "text/plain": [
       "<keras.src.callbacks.history.History at 0x2c8ff3084d0>"
      ]
     },
     "execution_count": 85,
     "metadata": {},
     "output_type": "execute_result"
    }
   ],
   "source": [
    "model = prepare_model()\n",
    "model.fit(train_generator, \n",
    "                    validation_data=train_generator, \n",
    "                    steps_per_epoch=train_generator.n//train_generator.batch_size,\n",
    "                    validation_steps = valid_generator.n//valid_generator.batch_size,\n",
    "                    epochs=5)"
   ]
  },
  {
   "cell_type": "code",
   "execution_count": 86,
   "id": "6f93b7b6-0f9d-4f4f-98e3-e311a2a3bd89",
   "metadata": {},
   "outputs": [
    {
     "name": "stdout",
     "output_type": "stream",
     "text": [
      "\u001b[1m23/23\u001b[0m \u001b[32m━━━━━━━━━━━━━━━━━━━━\u001b[0m\u001b[37m\u001b[0m \u001b[1m0s\u001b[0m 3ms/step\n",
      "[[0.49533385 0.49420327 0.497296   0.49670497 0.49802977]\n",
      " [0.49533385 0.49420327 0.497296   0.49670497 0.49802977]\n",
      " [0.49533385 0.49420327 0.497296   0.49670497 0.49802977]\n",
      " [0.49533385 0.49420327 0.497296   0.49670497 0.49802977]\n",
      " [0.49533385 0.49420327 0.497296   0.49670497 0.49802977]\n",
      " [0.49533385 0.49420327 0.497296   0.49670497 0.49802977]\n",
      " [0.49533385 0.49420327 0.497296   0.49670497 0.49802977]\n",
      " [0.49533385 0.49420327 0.497296   0.49670497 0.49802977]\n",
      " [0.49533385 0.49420327 0.497296   0.49670497 0.49802977]\n",
      " [0.49533385 0.49420327 0.497296   0.49670497 0.49802977]\n",
      " [0.49533385 0.49420327 0.497296   0.49670497 0.49802977]\n",
      " [0.49533385 0.49420327 0.497296   0.49670497 0.49802977]\n",
      " [0.49533385 0.49420327 0.497296   0.49670497 0.49802977]\n",
      " [0.49533385 0.49420327 0.497296   0.49670497 0.49802977]\n",
      " [0.49533385 0.49420327 0.497296   0.49670497 0.49802977]\n",
      " [0.49533385 0.49420327 0.497296   0.49670497 0.49802977]\n",
      " [0.49533385 0.49420327 0.497296   0.49670497 0.49802977]\n",
      " [0.49533385 0.49420327 0.497296   0.49670497 0.49802977]\n",
      " [0.49533385 0.49420327 0.497296   0.49670497 0.49802977]\n",
      " [0.49533385 0.49420327 0.497296   0.49670497 0.49802977]\n",
      " [0.49533385 0.49420327 0.497296   0.49670497 0.49802977]\n",
      " [0.49533385 0.49420327 0.497296   0.49670497 0.49802977]\n",
      " [0.49533385 0.49420327 0.497296   0.49670497 0.49802977]]\n",
      "[4 4 4 4 4 4 4 4 4 4 4 4 4 4 4 4 4 4 4 4 4 4 4]\n",
      "france\n",
      "for file  predict\\Canada_0.jpg  predicted class is  france  with probability  0.49802977\n",
      "for file  predict\\Canada_1.jpg  predicted class is  france  with probability  0.49802977\n",
      "for file  predict\\Canada_2.jpg  predicted class is  france  with probability  0.49802977\n",
      "for file  predict\\Canada_3.jpg  predicted class is  france  with probability  0.49802977\n",
      "for file  predict\\Canada_4.jpg  predicted class is  france  with probability  0.49802977\n",
      "for file  predict\\France_0.jpg  predicted class is  france  with probability  0.49802977\n",
      "for file  predict\\France_1.jpg  predicted class is  france  with probability  0.49802977\n",
      "for file  predict\\France_2.jpg  predicted class is  france  with probability  0.49802977\n",
      "for file  predict\\France_3.jpg  predicted class is  france  with probability  0.49802977\n",
      "for file  predict\\France_4.jpg  predicted class is  france  with probability  0.49802977\n",
      "for file  predict\\Japan_0.jpg  predicted class is  france  with probability  0.49802977\n",
      "for file  predict\\Japan_1.jpg  predicted class is  france  with probability  0.49802977\n",
      "for file  predict\\Japan_2.jpg  predicted class is  france  with probability  0.49802977\n",
      "for file  predict\\Japan_3.jpg  predicted class is  france  with probability  0.49802977\n",
      "for file  predict\\Japan_4.jpg  predicted class is  france  with probability  0.49802977\n",
      "for file  predict\\Sweden_0.jpg  predicted class is  france  with probability  0.49802977\n",
      "for file  predict\\Sweden_1.jpg  predicted class is  france  with probability  0.49802977\n",
      "for file  predict\\Sweden_2.jpg  predicted class is  france  with probability  0.49802977\n",
      "for file  predict\\Sweden_3.jpg  predicted class is  france  with probability  0.49802977\n",
      "for file  predict\\United States_0.jpg  predicted class is  france  with probability  0.49802977\n",
      "for file  predict\\United States_1.jpg  predicted class is  france  with probability  0.49802977\n",
      "for file  predict\\United States_2.jpg  predicted class is  france  with probability  0.49802977\n",
      "for file  predict\\United States_3.jpg  predicted class is  france  with probability  0.49802977\n"
     ]
    }
   ],
   "source": [
    "predict = model.predict(test_generator)\n",
    "y_classes = predict.argmax(axis=-1)\n",
    "print(predict)\n",
    "print(y_classes)\n",
    "print(classes[np.argmax(predict)])\n",
    "files = test_generator.filenames\n",
    "for i, p in enumerate(predict):\n",
    "    index=np.argmax(p)\n",
    "    classname = classes[index]\n",
    "    prob = p[index]\n",
    "    print(\"for file \", files[i], ' predicted class is ', classname, ' with probability ', prob)"
   ]
  },
  {
   "cell_type": "raw",
   "id": "64b9f140-254b-404c-b16e-a73bcf8cabc6",
   "metadata": {},
   "source": []
  }
 ],
 "metadata": {
  "kernelspec": {
   "display_name": "Python 3 (ipykernel)",
   "language": "python",
   "name": "python3"
  },
  "language_info": {
   "codemirror_mode": {
    "name": "ipython",
    "version": 3
   },
   "file_extension": ".py",
   "mimetype": "text/x-python",
   "name": "python",
   "nbconvert_exporter": "python",
   "pygments_lexer": "ipython3",
   "version": "3.11.4"
  }
 },
 "nbformat": 4,
 "nbformat_minor": 5
}
